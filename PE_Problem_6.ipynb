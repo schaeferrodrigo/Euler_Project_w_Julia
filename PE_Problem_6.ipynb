{
 "cells": [
  {
   "cell_type": "code",
   "execution_count": 13,
   "metadata": {},
   "outputs": [
    {
     "data": {
      "text/plain": [
       "\"The sum of the squares of the first ten natural numbers is,\\n12+22+...+102=385\\n\\nThe square of the sum of the first ten natural numbers is,\\n(1+2+...+10)2=552=3025\\n\\nHence the difference between the sum of the squares of the first ten natural numbers and the square of the sum is 3025−385=2640\\n\\n.\\n\\nFind the difference between the sum of the squares of the first one hundred natural numbers and the square of the sum.\""
      ]
     },
     "execution_count": 13,
     "metadata": {},
     "output_type": "execute_result"
    }
   ],
   "source": [
    "\"The sum of the squares of the first ten natural numbers is,\n",
    "12+22+...+102=385\n",
    "\n",
    "The square of the sum of the first ten natural numbers is,\n",
    "(1+2+...+10)2=552=3025\n",
    "\n",
    "Hence the difference between the sum of the squares of the first ten natural numbers and the square of the sum is 3025−385=2640\n",
    "\n",
    ".\n",
    "\n",
    "Find the difference between the sum of the squares of the first one hundred natural numbers and the square of the sum.\"\n",
    "\n",
    "        "
   ]
  },
  {
   "cell_type": "code",
   "execution_count": 17,
   "metadata": {},
   "outputs": [
    {
     "name": "stdout",
     "output_type": "stream",
     "text": [
      "the difference between the sum of the squares of the first one hundred natural numbers and the square of the sum is 25164150\n"
     ]
    }
   ],
   "source": [
    " #(\\sum_{i=1}^n x_i)^2 = \\sum_{i=1}^n x_i^2 + 2 *sum_{i<j , i=1}^n x_ix_j\n",
    "function diff_squares(final_value)\n",
    "    sum = 0\n",
    "    for number_1 in [1:final_value;]\n",
    "        for number_2 in [(number_1+1):final_value;]\n",
    "            sum = sum + 2 * number_1*number_2\n",
    "        end\n",
    "    end\n",
    "    return sum\n",
    "end\n",
    "\n",
    "println(\"the difference between the sum of the squares of the first one hundred natural numbers and the square of the sum is \", diff_squares(100))\n",
    "\n",
    "\n"
   ]
  },
  {
   "cell_type": "code",
   "execution_count": null,
   "metadata": {},
   "outputs": [],
   "source": []
  }
 ],
 "metadata": {
  "kernelspec": {
   "display_name": "Julia 1.4.2",
   "language": "julia",
   "name": "julia-1.4"
  },
  "language_info": {
   "file_extension": ".jl",
   "mimetype": "application/julia",
   "name": "julia",
   "version": "1.4.2"
  }
 },
 "nbformat": 4,
 "nbformat_minor": 4
}
