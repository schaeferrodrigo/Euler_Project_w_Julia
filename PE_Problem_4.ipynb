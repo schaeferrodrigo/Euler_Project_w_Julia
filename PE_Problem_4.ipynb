{
 "cells": [
  {
   "cell_type": "code",
   "execution_count": 1,
   "metadata": {},
   "outputs": [
    {
     "data": {
      "text/plain": [
       "\"A palindromic number reads the same both ways. The largest palindrome made from the product of two 2-digit numbers is 9009 = 91 × 99.\\n\\nFind the largest palindrome made from the product of two 3-digit numbers.\\n\""
      ]
     },
     "execution_count": 1,
     "metadata": {},
     "output_type": "execute_result"
    }
   ],
   "source": [
    "\"A palindromic number reads the same both ways. The largest palindrome made from the product of two 2-digit numbers is 9009 = 91 × 99.\n",
    "\n",
    "Find the largest palindrome made from the product of two 3-digit numbers.\n",
    "\""
   ]
  },
  {
   "cell_type": "code",
   "execution_count": 9,
   "metadata": {},
   "outputs": [
    {
     "name": "stdout",
     "output_type": "stream",
     "text": [
      "The largest palindrome made from the product of two 3-digit numbers is906609\n"
     ]
    }
   ],
   "source": [
    "max = 9009 \n",
    "for x in 100:999\n",
    "    for y in x:999\n",
    "        candidate = x*y\n",
    "        str = string(candidate)\n",
    "        last = length(str)\n",
    "        if str[1] ==str[last] && str[2] ==str[last-1] && str[3]==str[last-2] && candidate > max\n",
    "            global max = candidate\n",
    "        end\n",
    "    end\n",
    "end \n",
    "println(\"The largest palindrome made from the product of two 3-digit numbers is \", max)\n",
    "            \n",
    "        "
   ]
  },
  {
   "cell_type": "code",
   "execution_count": 16,
   "metadata": {},
   "outputs": [
    {
     "name": "stdout",
     "output_type": "stream",
     "text": [
      "The largest palindrome made from the product of two 3-digit numbers is 906609\n"
     ]
    }
   ],
   "source": [
    "#Alternative solution\n",
    "\n",
    "function palindrome( number ) # it just works for a palindrome of 5 or 6 digits\n",
    "    str = string(number)\n",
    "    last = length(str)\n",
    "    if str[1] ==str[last] && str[2] ==str[last-1] && str[3]==str[last-2]\n",
    "        return 1\n",
    "    else\n",
    "        return 0\n",
    "    end\n",
    "end\n",
    "\n",
    "max = 9009 \n",
    "for x in 100:999\n",
    "    for y in x:999\n",
    "        candidate = x*y\n",
    "        if palindrome(candidate)==1 && candidate > max\n",
    "            global max = candidate\n",
    "        end\n",
    "    end\n",
    "end \n",
    "println(\"The largest palindrome made from the product of two 3-digit numbers is \", max)\n",
    "\n",
    "\n",
    "\n"
   ]
  },
  {
   "cell_type": "code",
   "execution_count": null,
   "metadata": {},
   "outputs": [],
   "source": []
  },
  {
   "cell_type": "code",
   "execution_count": null,
   "metadata": {},
   "outputs": [],
   "source": []
  },
  {
   "cell_type": "code",
   "execution_count": null,
   "metadata": {},
   "outputs": [],
   "source": []
  }
 ],
 "metadata": {
  "kernelspec": {
   "display_name": "Julia 1.4.2",
   "language": "julia",
   "name": "julia-1.4"
  },
  "language_info": {
   "file_extension": ".jl",
   "mimetype": "application/julia",
   "name": "julia",
   "version": "1.4.2"
  }
 },
 "nbformat": 4,
 "nbformat_minor": 4
}
