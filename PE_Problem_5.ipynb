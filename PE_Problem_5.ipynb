{
 "cells": [
  {
   "cell_type": "code",
   "execution_count": 1,
   "metadata": {},
   "outputs": [
    {
     "data": {
      "text/plain": [
       "\"\\n2520 is the smallest number that can be divided by each of the numbers from 1 to 10 without any remainder.\\n\\nWhat is the smallest positive number that is evenly divisible by all of the numbers from 1 to 20?\\n\""
      ]
     },
     "execution_count": 1,
     "metadata": {},
     "output_type": "execute_result"
    }
   ],
   "source": [
    "\"\n",
    "2520 is the smallest number that can be divided by each of the numbers from 1 to 10 without any remainder.\n",
    "\n",
    "What is the smallest positive number that is evenly divisible by all of the numbers from 1 to 20?\n",
    "\""
   ]
  },
  {
   "cell_type": "code",
   "execution_count": 62,
   "metadata": {},
   "outputs": [
    {
     "name": "stdout",
     "output_type": "stream",
     "text": [
      "The smallest positive number that is evenly divisible by all of the numbers from 1 to 20 is 232792560\n"
     ]
    }
   ],
   "source": [
    "function prime_numbers(final_value)\n",
    "    primes = [2]\n",
    "    candidate = 3\n",
    "    while candidate <= final_value\n",
    "        if length([x for x in primes if mod(candidate,x)==0])==0\n",
    "            append!(primes, candidate)\n",
    "        end\n",
    "        candidate +=2\n",
    "    end\n",
    "    return primes\n",
    "end\n",
    "\n",
    "function small_divisible(final_value)\n",
    "    primes = prime_numbers(final_value)\n",
    "    factors = [x for x in primes if x <= sqrt(final_value)]\n",
    "    factorization = 1\n",
    "    for factor in factors\n",
    "        product = factor\n",
    "        while product*factor <= final_value\n",
    "            product = product*factor\n",
    "        end\n",
    "        factorization *= product\n",
    "    end\n",
    "    power_1 = setdiff(primes,factors)\n",
    "    total_product = prod(power_1)*factorization\n",
    "    return total_product\n",
    "end\n",
    "\n",
    "println( \"The smallest positive number that is evenly divisible by all of the numbers from 1 to 20 is \" , small_divisible(20))\n",
    "    "
   ]
  }
 ],
 "metadata": {
  "kernelspec": {
   "display_name": "Julia 1.4.2",
   "language": "julia",
   "name": "julia-1.4"
  },
  "language_info": {
   "file_extension": ".jl",
   "mimetype": "application/julia",
   "name": "julia",
   "version": "1.4.2"
  }
 },
 "nbformat": 4,
 "nbformat_minor": 4
}
