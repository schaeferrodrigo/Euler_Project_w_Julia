{
 "cells": [
  {
   "cell_type": "code",
   "execution_count": 1,
   "metadata": {},
   "outputs": [
    {
     "data": {
      "text/plain": [
       "\"The prime factors of 13195 are 5, 7, 13 and 29.\\n\\nWhat is the largest prime factor of the number 600851475143 ?\""
      ]
     },
     "execution_count": 1,
     "metadata": {},
     "output_type": "execute_result"
    }
   ],
   "source": [
    "\"The prime factors of 13195 are 5, 7, 13 and 29.\n",
    "\n",
    "What is the largest prime factor of the number 600851475143 ?\"\n"
   ]
  },
  {
   "cell_type": "code",
   "execution_count": 2,
   "metadata": {},
   "outputs": [
    {
     "name": "stdout",
     "output_type": "stream",
     "text": [
      "the largest prime factor of  600851475143 is 6857\n"
     ]
    }
   ],
   "source": [
    "candidate = 3\n",
    "to_be_divided = 600851475143\n",
    "prime_numbers = [2]\n",
    "max_prime = 1\n",
    "\n",
    "while candidate <= to_be_divided\n",
    "    if length([x for x in prime_numbers if mod(candidate,x)==0]) == 0\n",
    "        append!(prime_numbers , candidate)\n",
    "        if mod(to_be_divided,candidate) == 0\n",
    "            global max_prime = candidate\n",
    "            global to_be_divided = to_be_divided/max_prime\n",
    "        end\n",
    "    end\n",
    "    global candidate +=1\n",
    "end\n",
    "println(\"the largest prime factor of  600851475143 is \", max_prime)"
   ]
  },
  {
   "cell_type": "code",
   "execution_count": null,
   "metadata": {},
   "outputs": [],
   "source": []
  }
 ],
 "metadata": {
  "kernelspec": {
   "display_name": "Julia 1.4.2",
   "language": "julia",
   "name": "julia-1.4"
  },
  "language_info": {
   "file_extension": ".jl",
   "mimetype": "application/julia",
   "name": "julia",
   "version": "1.4.2"
  }
 },
 "nbformat": 4,
 "nbformat_minor": 4
}
