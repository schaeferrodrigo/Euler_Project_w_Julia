{
 "cells": [
  {
   "cell_type": "code",
   "execution_count": null,
   "metadata": {},
   "outputs": [],
   "source": [
    "\"\n",
    "By listing the first six prime numbers: 2, 3, 5, 7, 11, and 13, we can see that the 6th prime is 13.\n",
    "\n",
    "What is the 10 001st prime number?\n",
    "\""
   ]
  },
  {
   "cell_type": "code",
   "execution_count": 5,
   "metadata": {},
   "outputs": [
    {
     "name": "stdout",
     "output_type": "stream",
     "text": [
      "104743\n",
      " 23.106785 seconds (526.42 M allocations: 7.857 GiB, 1.48% gc time)\n"
     ]
    }
   ],
   "source": [
    "@time begin\n",
    "function prime_numbers(position)\n",
    "    primes = [2]\n",
    "    candidate = 3\n",
    "    while length(primes) <= position-1\n",
    "        if length([x for x in primes if mod(candidate,x)==0])==0\n",
    "            append!(primes, candidate)\n",
    "        end\n",
    "        candidate +=2\n",
    "    end\n",
    "    return primes[end]\n",
    "end\n",
    "\n",
    "println(prime_numbers(10001))\n",
    "end"
   ]
  },
  {
   "cell_type": "code",
   "execution_count": null,
   "metadata": {},
   "outputs": [],
   "source": []
  }
 ],
 "metadata": {
  "kernelspec": {
   "display_name": "Julia 1.4.2",
   "language": "julia",
   "name": "julia-1.4"
  },
  "language_info": {
   "file_extension": ".jl",
   "mimetype": "application/julia",
   "name": "julia",
   "version": "1.4.2"
  }
 },
 "nbformat": 4,
 "nbformat_minor": 4
}
